{
 "cells": [
  {
   "cell_type": "code",
   "execution_count": 1,
   "metadata": {},
   "outputs": [
    {
     "name": "stderr",
     "output_type": "stream",
     "text": [
      "WARNING: Logging before flag parsing goes to stderr.\n",
      "W0722 00:13:50.236157   644 deprecation.py:323] From <ipython-input-1-3b3390263800>:5: read_data_sets (from tensorflow.contrib.learn.python.learn.datasets.mnist) is deprecated and will be removed in a future version.\n",
      "Instructions for updating:\n",
      "Please use alternatives such as official/mnist/dataset.py from tensorflow/models.\n",
      "W0722 00:13:50.236157   644 deprecation.py:323] From C:\\Users\\AR\\Anaconda3\\lib\\site-packages\\tensorflow\\contrib\\learn\\python\\learn\\datasets\\mnist.py:260: maybe_download (from tensorflow.contrib.learn.python.learn.datasets.base) is deprecated and will be removed in a future version.\n",
      "Instructions for updating:\n",
      "Please write your own downloading logic.\n",
      "W0722 00:13:50.240733   644 deprecation.py:323] From C:\\Users\\AR\\Anaconda3\\lib\\site-packages\\tensorflow\\contrib\\learn\\python\\learn\\datasets\\base.py:252: _internal_retry.<locals>.wrap.<locals>.wrapped_fn (from tensorflow.contrib.learn.python.learn.datasets.base) is deprecated and will be removed in a future version.\n",
      "Instructions for updating:\n",
      "Please use urllib or similar directly.\n",
      "W0722 00:13:56.078746   644 deprecation.py:323] From C:\\Users\\AR\\Anaconda3\\lib\\site-packages\\tensorflow\\contrib\\learn\\python\\learn\\datasets\\mnist.py:262: extract_images (from tensorflow.contrib.learn.python.learn.datasets.mnist) is deprecated and will be removed in a future version.\n",
      "Instructions for updating:\n",
      "Please use tf.data to implement this functionality.\n"
     ]
    },
    {
     "name": "stdout",
     "output_type": "stream",
     "text": [
      "Successfully downloaded train-images-idx3-ubyte.gz 9912422 bytes.\n",
      "Extracting MNIST_data/train-images-idx3-ubyte.gz\n"
     ]
    },
    {
     "name": "stderr",
     "output_type": "stream",
     "text": [
      "W0722 00:13:57.282211   644 deprecation.py:323] From C:\\Users\\AR\\Anaconda3\\lib\\site-packages\\tensorflow\\contrib\\learn\\python\\learn\\datasets\\mnist.py:267: extract_labels (from tensorflow.contrib.learn.python.learn.datasets.mnist) is deprecated and will be removed in a future version.\n",
      "Instructions for updating:\n",
      "Please use tf.data to implement this functionality.\n",
      "W0722 00:13:57.289827   644 deprecation.py:323] From C:\\Users\\AR\\Anaconda3\\lib\\site-packages\\tensorflow\\contrib\\learn\\python\\learn\\datasets\\mnist.py:110: dense_to_one_hot (from tensorflow.contrib.learn.python.learn.datasets.mnist) is deprecated and will be removed in a future version.\n",
      "Instructions for updating:\n",
      "Please use tf.one_hot on tensors.\n"
     ]
    },
    {
     "name": "stdout",
     "output_type": "stream",
     "text": [
      "Successfully downloaded train-labels-idx1-ubyte.gz 28881 bytes.\n",
      "Extracting MNIST_data/train-labels-idx1-ubyte.gz\n",
      "Successfully downloaded t10k-images-idx3-ubyte.gz 1648877 bytes.\n",
      "Extracting MNIST_data/t10k-images-idx3-ubyte.gz\n"
     ]
    },
    {
     "name": "stderr",
     "output_type": "stream",
     "text": [
      "W0722 00:14:00.881034   644 deprecation.py:323] From C:\\Users\\AR\\Anaconda3\\lib\\site-packages\\tensorflow\\contrib\\learn\\python\\learn\\datasets\\mnist.py:290: DataSet.__init__ (from tensorflow.contrib.learn.python.learn.datasets.mnist) is deprecated and will be removed in a future version.\n",
      "Instructions for updating:\n",
      "Please use alternatives such as official/mnist/dataset.py from tensorflow/models.\n"
     ]
    },
    {
     "name": "stdout",
     "output_type": "stream",
     "text": [
      "Successfully downloaded t10k-labels-idx1-ubyte.gz 4542 bytes.\n",
      "Extracting MNIST_data/t10k-labels-idx1-ubyte.gz\n"
     ]
    }
   ],
   "source": [
    "import tensorflow as tf\n",
    "import numpy as np\n",
    "import matplotlib.pyplot as plt\n",
    "from tensorflow.examples.tutorials.mnist import input_data\n",
    "mnist = input_data.read_data_sets(\"MNIST_data/\", one_hot=True)"
   ]
  },
  {
   "cell_type": "code",
   "execution_count": 5,
   "metadata": {},
   "outputs": [
    {
     "name": "stderr",
     "output_type": "stream",
     "text": [
      "C:\\Users\\AR\\Anaconda3\\lib\\site-packages\\tensorflow\\python\\client\\session.py:1735: UserWarning: An interactive session is already active. This can cause out-of-memory errors in some cases. You must explicitly call `InteractiveSession.close()` to release resources held by the other session(s).\n",
      "  warnings.warn('An interactive session is already active. This can '\n"
     ]
    },
    {
     "name": "stdout",
     "output_type": "stream",
     "text": [
      "Epoch 1Trainig loss 0.430Validation loss 0.197Validation accuracy 94.86%\n",
      "Epoch 2Trainig loss 0.183Validation loss 0.143Validation accuracy 95.76%\n",
      "Epoch 3Trainig loss 0.136Validation loss 0.123Validation accuracy 96.52%\n",
      "Epoch 4Trainig loss 0.111Validation loss 0.109Validation accuracy 96.76%\n",
      "Epoch 5Trainig loss 0.090Validation loss 0.101Validation accuracy 96.76%\n",
      "Epoch 6Trainig loss 0.078Validation loss 0.092Validation accuracy 97.28%\n",
      "Epoch 7Trainig loss 0.068Validation loss 0.097Validation accuracy 97.02%\n",
      "end of train\n"
     ]
    }
   ],
   "source": [
    "input_size = 784\n",
    "output_size = 10\n",
    "# two hidden layers\n",
    "hidden_layer_size = 50\n",
    "\n",
    "# clears the memory of all variables left from previous runs\n",
    "tf.reset_default_graph()\n",
    "inputs = tf.placeholder(tf.float32, [None, input_size])\n",
    "targets = tf.placeholder(tf.float32, [None, output_size])\n",
    "\n",
    "# for hidden layer 1\n",
    "weights1 = tf.get_variable(\"weights1\", [input_size, hidden_layer_size])\n",
    "bias1 = tf.get_variable(\"bias1\",[hidden_layer_size])\n",
    "outputs1 = tf.nn.relu(tf.matmul(inputs, weights1) + bias1)\n",
    "\n",
    "# for hidden layr 2\n",
    "weights2 = tf.get_variable(\"weights2\", [hidden_layer_size, hidden_layer_size])\n",
    "bias2 = tf.get_variable(\"bias2\",[hidden_layer_size])\n",
    "outputs2 = tf.nn.relu(tf.matmul(outputs1, weights2) + bias2)\n",
    "\n",
    "# for outputs\n",
    "weights3 = tf.get_variable(\"weights3\", [hidden_layer_size, output_size])\n",
    "bias3 = tf.get_variable(\"bias3\",[output_size])\n",
    "outputs = tf.matmul(outputs2, weights3) + bias3\n",
    "\n",
    "loss = tf.nn.softmax_cross_entropy_with_logits(logits = outputs, labels = targets)\n",
    "mean_loss = tf.reduce_mean(loss)\n",
    "optimize = tf.train.AdamOptimizer(learning_rate=0.001).minimize(mean_loss)\n",
    "\n",
    "# second argument is for axis (0 for row , 1 for column)\n",
    "out_equals_target = tf.equal(tf.arg_max(outputs, 1), tf.arg_max(targets, 1))\n",
    "accuracy = tf.reduce_mean(tf.cast(out_equals_target, tf.float32))\n",
    "\n",
    "sess = tf.InteractiveSession()\n",
    "init = tf.global_variables_initializer()\n",
    "sess.run(init)\n",
    "\n",
    "batch_size = 100\n",
    "batch_number = mnist.train._num_examples // batch_size\n",
    "max_epoch = 15\n",
    "prev_validation_loss = 99999999\n",
    "\n",
    "for epoch_counter in range(max_epoch):\n",
    "    curr_epcoh_losss = 0\n",
    "    for batch_counter in range(batch_number):\n",
    "        input_batch, target_batch = mnist.train.next_batch(batch_size)\n",
    "        _, batch_loss = sess.run([optimize, mean_loss], feed_dict={inputs:input_batch, targets: target_batch})\n",
    "        curr_epcoh_losss += batch_loss\n",
    "    \n",
    "    curr_epcoh_losss /= batch_number\n",
    "    input_batch, target_batch = mnist.validation.next_batch(mnist.validation._num_examples)\n",
    "    validation_loss, validation_accuracy = sess.run([mean_loss, accuracy], \n",
    "                                                    feed_dict={inputs:input_batch, targets: target_batch})\n",
    "    \n",
    "    print('Epoch '+ str(epoch_counter+1)\n",
    "         +'Trainig loss '+'{0:.3f}'.format(curr_epcoh_losss)\n",
    "         +'Validation loss '+'{0:.3f}'.format(validation_loss)\n",
    "          +'Validation accuracy '+'{0:.2f}'.format(validation_accuracy * 100.)+'%')\n",
    "    \n",
    "    if validation_loss > prev_validation_loss:\n",
    "        break\n",
    "    prev_validation_loss = validation_loss\n",
    "    \n",
    "print('end of train')"
   ]
  },
  {
   "cell_type": "markdown",
   "metadata": {},
   "source": [
    "## Test"
   ]
  },
  {
   "cell_type": "code",
   "execution_count": 6,
   "metadata": {},
   "outputs": [
    {
     "name": "stdout",
     "output_type": "stream",
     "text": [
      "Test Accuract97.00%\n"
     ]
    }
   ],
   "source": [
    "input_batch, target_batch = mnist.test.next_batch(mnist.test._num_examples)\n",
    "test_accuracy = sess.run([accuracy], feed_dict={inputs:input_batch, targets: target_batch})\n",
    "test_accuracy_percent = test_accuracy[0] * 100.\n",
    "print('Test Accuract'+'{0:.2f}'.format(test_accuracy_percent) + '%')"
   ]
  },
  {
   "cell_type": "code",
   "execution_count": null,
   "metadata": {},
   "outputs": [],
   "source": []
  }
 ],
 "metadata": {
  "kernelspec": {
   "display_name": "Python 3",
   "language": "python",
   "name": "python3"
  },
  "language_info": {
   "codemirror_mode": {
    "name": "ipython",
    "version": 3
   },
   "file_extension": ".py",
   "mimetype": "text/x-python",
   "name": "python",
   "nbconvert_exporter": "python",
   "pygments_lexer": "ipython3",
   "version": "3.7.3"
  }
 },
 "nbformat": 4,
 "nbformat_minor": 2
}
